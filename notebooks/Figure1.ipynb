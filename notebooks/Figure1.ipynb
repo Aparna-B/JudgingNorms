{
 "cells": [
  {
   "cell_type": "code",
   "execution_count": 1,
   "id": "muslim-company",
   "metadata": {},
   "outputs": [],
   "source": [
    "import pandas as pd\n",
    "import numpy as np\n",
    "import matplotlib.pyplot as plt\n",
    "import seaborn as sns\n",
    "\n",
    "df=pd.read_csv('../../textdatasets.csv')\n"
   ]
  },
  {
   "cell_type": "code",
   "execution_count": 2,
   "id": "duplicate-romantic",
   "metadata": {},
   "outputs": [],
   "source": [
    "import math\n",
    "df['logsize'] = df.apply(lambda row: math.log10(row['Tenorder']),axis=1)"
   ]
  },
  {
   "cell_type": "code",
   "execution_count": 3,
   "id": "distant-transformation",
   "metadata": {},
   "outputs": [],
   "source": [
    "df = df.sort_values('Year').reset_index()\n",
    "df['dataset_id'] = np.arange(df.shape[0])+1"
   ]
  },
  {
   "cell_type": "code",
   "execution_count": 4,
   "id": "overall-christianity",
   "metadata": {},
   "outputs": [
    {
     "name": "stderr",
     "output_type": "stream",
     "text": [
      "/var/folders/3j/h2m619j17dl6rdy721s2phbm0000gn/T/ipykernel_51847/964087508.py:1: SettingWithCopyWarning: \n",
      "A value is trying to be set on a copy of a slice from a DataFrame.\n",
      "Try using .loc[row_indexer,col_indexer] = value instead\n",
      "\n",
      "See the caveats in the documentation: https://pandas.pydata.org/pandas-docs/stable/user_guide/indexing.html#returning-a-view-versus-a-copy\n",
      "  df.iloc[0:3]['Paper'] = ['IBM 1954','ELIZA','Computer Indexing']\n"
     ]
    }
   ],
   "source": [
    "df.iloc[0:3]['Paper'] = ['IBM 1954','ELIZA','Computer Indexing']"
   ]
  },
  {
   "cell_type": "code",
   "execution_count": 5,
   "id": "diagnostic-operations",
   "metadata": {},
   "outputs": [],
   "source": [
    "\n",
    "df.loc[df['Paper']=='20 NewsGroup dataset','Paper'] = '20 NewsGroup'\n"
   ]
  },
  {
   "cell_type": "code",
   "execution_count": 6,
   "id": "strong-invitation",
   "metadata": {},
   "outputs": [],
   "source": [
    "def jitter(values,j):\n",
    "    return values + np.random.normal(j,0.1,values.shape)"
   ]
  },
  {
   "cell_type": "code",
   "execution_count": 7,
   "id": "super-cooperation",
   "metadata": {},
   "outputs": [],
   "source": [
    "df_new = df[~df.Numlabellers.isna()]"
   ]
  },
  {
   "cell_type": "code",
   "execution_count": 8,
   "id": "gross-positive",
   "metadata": {},
   "outputs": [],
   "source": [
    "import matplotlib.pyplot as plt\n",
    "import matplotlib.text as mpl_text\n",
    "\n",
    "class AnyObject(object):\n",
    "    def __init__(self, text, color):\n",
    "        self.my_text = text\n",
    "        self.my_color = color\n",
    "\n",
    "class AnyObjectHandler(object):\n",
    "    def legend_artist(self, legend, orig_handle, fontsize, handlebox):\n",
    "        x0, y0 = handlebox.xdescent, handlebox.ydescent\n",
    "        width, height = handlebox.width, handlebox.height\n",
    "        patch = mpl_text.Text(x=0, y=0, text=orig_handle.my_text, color=orig_handle.my_color, verticalalignment=u'baseline', \n",
    "                                horizontalalignment=u'left', multialignment=None, \n",
    "                                fontproperties=None, rotation=45, linespacing=None, \n",
    "                                rotation_mode=None)\n",
    "        handlebox.add_artist(patch)\n",
    "        return patch\n",
    "\n",
    "obj_0 = AnyObject(\"1\", \"lightgray\")\n"
   ]
  },
  {
   "cell_type": "code",
   "execution_count": 9,
   "id": "96b761ac",
   "metadata": {},
   "outputs": [
    {
     "data": {
      "text/plain": [
       "array([6.       , 1.4197122, 5.       , 5.7      , 2.02599  , 4.       ,\n",
       "       2.3      , 5.7      , 4.       , 2.       ])"
      ]
     },
     "execution_count": 9,
     "metadata": {},
     "output_type": "execute_result"
    }
   ],
   "source": [
    "df=df[df.Year>=2009]\n",
    "df.loc[df.Size=='570,000','Size']=570000\n",
    "df.loc[df.Size=='400,000,000','Size']=400000000\n",
    "df.loc[df.Size=='50,000','Size']=50000\n",
    "\n",
    "df['Size'].values.astype(int)/df['Tenorder'].values.astype(int)"
   ]
  },
  {
   "cell_type": "code",
   "execution_count": 10,
   "id": "billion-palace",
   "metadata": {},
   "outputs": [
    {
     "data": {
      "image/png": "[encoded data removed]",
      "text/plain": [
       "<Figure size 720x432 with 1 Axes>"
      ]
     },
     "metadata": {
      "needs_background": "light"
     },
     "output_type": "display_data"
    }
   ],
   "source": [
    "import matplotlib.pyplot as plt\n",
    "plt.rcParams[\"figure.figsize\"] = (10,6)\n",
    "df=df[df.Year>=2009]\n",
    "df=df[df.Paper!='SNLI']\n",
    "df=df.sort_values('Year')\n",
    "df['ind']=np.arange(df.shape[0])\n",
    "\n",
    "\n",
    "axes=sns.scatterplot(\n",
    "    data=df,\n",
    "    x=\"logsize\",\n",
    "    y=\"Numlabellers\",\n",
    "    s=800,\n",
    "    edgecolors='black',\n",
    "    linewidth=1,\n",
    "    edgecolor='black',\n",
    "    color='lightgray',\n",
    "    x_jitter=2,\n",
    "    y_jitter=2,\n",
    ")\n",
    "\n",
    "x=df['logsize'].values\n",
    "y=df['Numlabellers'].values\n",
    "datasets=df['Paper'].values\n",
    "\n",
    "for i, _ in enumerate(np.arange(df.shape[0])+1):\n",
    "    txt=datasets[i]\n",
    "    plt.annotate(df.iloc[i]['ind']+1, (x[i]-0.04, y[i]-0.1),fontsize=15, weight='bold')\n",
    "plt.grid(True,color='black', linestyle='--', linewidth=0.2)\n",
    "\n",
    "plt.xticks([4,5,6,7,8],[r\"$10^{{ {:2d} }}$\".format(i) for i in [4,5,6,7,8]],fontsize=12)\n",
    "plt.yticks(np.arange(11),fontsize=12)\n",
    "\n",
    "plt.xlabel('Items in Dataset (Ten-order)',fontsize=20)\n",
    "plt.ylabel('Labels per Item (Count)',fontsize=20)\n",
    "plt.tight_layout()\n",
    "plt.savefig('../Figure 1a.png',dpi=600)"
   ]
  },
  {
   "cell_type": "code",
   "execution_count": 11,
   "id": "aware-comparison",
   "metadata": {},
   "outputs": [
    {
     "data": {
      "text/html": [
       "<div>\n",
       "<style scoped>\n",
       "    .dataframe tbody tr th:only-of-type {\n",
       "        vertical-align: middle;\n",
       "    }\n",
       "\n",
       "    .dataframe tbody tr th {\n",
       "        vertical-align: top;\n",
       "    }\n",
       "\n",
       "    .dataframe thead th {\n",
       "        text-align: right;\n",
       "    }\n",
       "</style>\n",
       "<table border=\"1\" class=\"dataframe\">\n",
       "  <thead>\n",
       "    <tr style=\"text-align: right;\">\n",
       "      <th></th>\n",
       "      <th>index</th>\n",
       "      <th>Year</th>\n",
       "      <th>Paper</th>\n",
       "      <th>Size</th>\n",
       "      <th>Numlabellers</th>\n",
       "      <th>Tenorder</th>\n",
       "      <th>logsize</th>\n",
       "      <th>dataset_id</th>\n",
       "      <th>ind</th>\n",
       "    </tr>\n",
       "  </thead>\n",
       "  <tbody>\n",
       "    <tr>\n",
       "      <th>7</th>\n",
       "      <td>16</td>\n",
       "      <td>2009</td>\n",
       "      <td>CIFAR-10</td>\n",
       "      <td>60000</td>\n",
       "      <td>2.0</td>\n",
       "      <td>10000</td>\n",
       "      <td>4.0</td>\n",
       "      <td>8</td>\n",
       "      <td>0</td>\n",
       "    </tr>\n",
       "    <tr>\n",
       "      <th>8</th>\n",
       "      <td>14</td>\n",
       "      <td>2010</td>\n",
       "      <td>Imagenet</td>\n",
       "      <td>14197122</td>\n",
       "      <td>10.0</td>\n",
       "      <td>10000000</td>\n",
       "      <td>7.0</td>\n",
       "      <td>9</td>\n",
       "      <td>1</td>\n",
       "    </tr>\n",
       "    <tr>\n",
       "      <th>9</th>\n",
       "      <td>6</td>\n",
       "      <td>2011</td>\n",
       "      <td>IMDB</td>\n",
       "      <td>50000</td>\n",
       "      <td>1.0</td>\n",
       "      <td>10000</td>\n",
       "      <td>4.0</td>\n",
       "      <td>10</td>\n",
       "      <td>2</td>\n",
       "    </tr>\n",
       "    <tr>\n",
       "      <th>11</th>\n",
       "      <td>15</td>\n",
       "      <td>2015</td>\n",
       "      <td>Celeb-A</td>\n",
       "      <td>202599</td>\n",
       "      <td>1.0</td>\n",
       "      <td>100000</td>\n",
       "      <td>5.0</td>\n",
       "      <td>12</td>\n",
       "      <td>3</td>\n",
       "    </tr>\n",
       "    <tr>\n",
       "      <th>12</th>\n",
       "      <td>9</td>\n",
       "      <td>2016</td>\n",
       "      <td>LAION-400M</td>\n",
       "      <td>400000000</td>\n",
       "      <td>1.0</td>\n",
       "      <td>100000000</td>\n",
       "      <td>8.0</td>\n",
       "      <td>13</td>\n",
       "      <td>4</td>\n",
       "    </tr>\n",
       "    <tr>\n",
       "      <th>13</th>\n",
       "      <td>10</td>\n",
       "      <td>2017</td>\n",
       "      <td>PubMed RCT</td>\n",
       "      <td>2300000</td>\n",
       "      <td>1.0</td>\n",
       "      <td>1000000</td>\n",
       "      <td>6.0</td>\n",
       "      <td>14</td>\n",
       "      <td>5</td>\n",
       "    </tr>\n",
       "    <tr>\n",
       "      <th>14</th>\n",
       "      <td>12</td>\n",
       "      <td>2018</td>\n",
       "      <td>e-SNLI</td>\n",
       "      <td>570000</td>\n",
       "      <td>3.0</td>\n",
       "      <td>100000</td>\n",
       "      <td>5.0</td>\n",
       "      <td>15</td>\n",
       "      <td>6</td>\n",
       "    </tr>\n",
       "    <tr>\n",
       "      <th>15</th>\n",
       "      <td>11</td>\n",
       "      <td>2019</td>\n",
       "      <td>MNLI</td>\n",
       "      <td>400000</td>\n",
       "      <td>5.0</td>\n",
       "      <td>100000</td>\n",
       "      <td>5.0</td>\n",
       "      <td>16</td>\n",
       "      <td>7</td>\n",
       "    </tr>\n",
       "    <tr>\n",
       "      <th>16</th>\n",
       "      <td>13</td>\n",
       "      <td>2020</td>\n",
       "      <td>CivilComments</td>\n",
       "      <td>2000000</td>\n",
       "      <td>10.0</td>\n",
       "      <td>1000000</td>\n",
       "      <td>6.0</td>\n",
       "      <td>17</td>\n",
       "      <td>8</td>\n",
       "    </tr>\n",
       "  </tbody>\n",
       "</table>\n",
       "</div>"
      ],
      "text/plain": [
       "    index  Year          Paper       Size  Numlabellers   Tenorder  logsize  \\\n",
       "7      16  2009       CIFAR-10      60000           2.0      10000      4.0   \n",
       "8      14  2010       Imagenet   14197122          10.0   10000000      7.0   \n",
       "9       6  2011           IMDB      50000           1.0      10000      4.0   \n",
       "11     15  2015        Celeb-A     202599           1.0     100000      5.0   \n",
       "12      9  2016     LAION-400M  400000000           1.0  100000000      8.0   \n",
       "13     10  2017     PubMed RCT    2300000           1.0    1000000      6.0   \n",
       "14     12  2018         e-SNLI     570000           3.0     100000      5.0   \n",
       "15     11  2019           MNLI     400000           5.0     100000      5.0   \n",
       "16     13  2020  CivilComments    2000000          10.0    1000000      6.0   \n",
       "\n",
       "    dataset_id  ind  \n",
       "7            8    0  \n",
       "8            9    1  \n",
       "9           10    2  \n",
       "11          12    3  \n",
       "12          13    4  \n",
       "13          14    5  \n",
       "14          15    6  \n",
       "15          16    7  \n",
       "16          17    8  "
      ]
     },
     "execution_count": 11,
     "metadata": {},
     "output_type": "execute_result"
    }
   ],
   "source": [
    "df"
   ]
  }
 ],
 "metadata": {
  "kernelspec": {
   "display_name": "Python 3 (ipykernel)",
   "language": "python",
   "name": "python3"
  },
  "language_info": {
   "codemirror_mode": {
    "name": "ipython",
    "version": 3
   },
   "file_extension": ".py",
   "mimetype": "text/x-python",
   "name": "python",
   "nbconvert_exporter": "python",
   "pygments_lexer": "ipython3",
   "version": "3.9.7"
  }
 },
 "nbformat": 4,
 "nbformat_minor": 5
}
